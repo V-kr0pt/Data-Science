{
  "cells": [
    {
      "cell_type": "markdown",
      "id": "GmyOXcDLHJtj",
      "metadata": {
        "id": "GmyOXcDLHJtj"
      },
      "source": [
        "This TP was done by: Clara Chelala and Vitor de Sousa França\n",
        "\n"
      ]
    },
    {
      "cell_type": "code",
      "execution_count": 2,
      "id": "149938de",
      "metadata": {
        "id": "149938de"
      },
      "outputs": [
        {
          "name": "stderr",
          "output_type": "stream",
          "text": [
            "2023-03-11 03:27:06.557771: I tensorflow/core/platform/cpu_feature_guard.cc:193] This TensorFlow binary is optimized with oneAPI Deep Neural Network Library (oneDNN) to use the following CPU instructions in performance-critical operations:  AVX2 FMA\n",
            "To enable them in other operations, rebuild TensorFlow with the appropriate compiler flags.\n",
            "2023-03-11 03:27:13.285641: W tensorflow/compiler/xla/stream_executor/platform/default/dso_loader.cc:64] Could not load dynamic library 'libcudart.so.11.0'; dlerror: libcudart.so.11.0: cannot open shared object file: No such file or directory\n",
            "2023-03-11 03:27:13.285771: I tensorflow/compiler/xla/stream_executor/cuda/cudart_stub.cc:29] Ignore above cudart dlerror if you do not have a GPU set up on your machine.\n",
            "2023-03-11 03:28:49.048658: W tensorflow/compiler/xla/stream_executor/platform/default/dso_loader.cc:64] Could not load dynamic library 'libnvinfer.so.7'; dlerror: libnvinfer.so.7: cannot open shared object file: No such file or directory\n",
            "2023-03-11 03:28:49.056301: W tensorflow/compiler/xla/stream_executor/platform/default/dso_loader.cc:64] Could not load dynamic library 'libnvinfer_plugin.so.7'; dlerror: libnvinfer_plugin.so.7: cannot open shared object file: No such file or directory\n",
            "2023-03-11 03:28:49.056366: W tensorflow/compiler/tf2tensorrt/utils/py_utils.cc:38] TF-TRT Warning: Cannot dlopen some TensorRT libraries. If you would like to use Nvidia GPU with TensorRT, please make sure the missing libraries mentioned above are installed properly.\n"
          ]
        }
      ],
      "source": [
        "import time\n",
        "import numpy as np\n",
        "import tensorflow as tf\n",
        "from tensorflow import keras\n",
        "from tensorflow.keras import layers\n",
        "import matplotlib.pyplot as plt"
      ]
    },
    {
      "cell_type": "code",
      "execution_count": 57,
      "id": "773c1396",
      "metadata": {
        "colab": {
          "base_uri": "https://localhost:8080/",
          "height": 300
        },
        "id": "773c1396",
        "outputId": "ba86e0dc-1454-433d-bd68-f382a1603d4e"
      },
      "outputs": [
        {
          "name": "stdout",
          "output_type": "stream",
          "text": [
            "5\n"
          ]
        },
        {
          "data": {
            "text/plain": [
              "<matplotlib.image.AxesImage at 0x7fb6b741c220>"
            ]
          },
          "execution_count": 57,
          "metadata": {},
          "output_type": "execute_result"
        },
        {
          "data": {
            "image/png": "[encoded data removed]",
            "text/plain": [
              "<Figure size 432x288 with 1 Axes>"
            ]
          },
          "metadata": {
            "needs_background": "light"
          },
          "output_type": "display_data"
        }
      ],
      "source": [
        "train_data, test_data = tf.keras.datasets.mnist.load_data(path=\"mnist.npz\")\n",
        "x_train = train_data[0].reshape(-1,784).astype(float) / 255\n",
        "y_train = train_data[1]\n",
        "print(y_train[0])\n",
        "plt.imshow(train_data[0][0], cmap='gray')"
      ]
    },
    {
      "cell_type": "code",
      "execution_count": 58,
      "id": "79AC6Q8BAmKr",
      "metadata": {
        "id": "79AC6Q8BAmKr"
      },
      "outputs": [],
      "source": [
        "#Spliting test data\n",
        "x_test = test_data[0].reshape(-1,784).astype(float) / 255\n",
        "y_test = test_data[1]"
      ]
    },
    {
      "cell_type": "code",
      "execution_count": 59,
      "id": "4b521b78",
      "metadata": {
        "colab": {
          "base_uri": "https://localhost:8080/"
        },
        "id": "4b521b78",
        "outputId": "4846ec63-8551-4b78-a203-589442a23312"
      },
      "outputs": [
        {
          "name": "stdout",
          "output_type": "stream",
          "text": [
            "Model: \"mnist_model\"\n",
            "_________________________________________________________________\n",
            " Layer (type)                Output Shape              Param #   \n",
            "=================================================================\n",
            " digits (InputLayer)         [(None, 784)]             0         \n",
            "                                                                 \n",
            " dense_1 (Dense)             (None, 32)                25120     \n",
            "                                                                 \n",
            " dense_2 (Dense)             (None, 32)                1056      \n",
            "                                                                 \n",
            " predictions (Dense)         (None, 10)                330       \n",
            "                                                                 \n",
            "=================================================================\n",
            "Total params: 26,506\n",
            "Trainable params: 26,506\n",
            "Non-trainable params: 0\n",
            "_________________________________________________________________\n"
          ]
        }
      ],
      "source": [
        "# source: https://keras.io/guides/training_with_built_in_methods/\n",
        "\n",
        "inputs = keras.Input(shape=(784,), name=\"digits\")\n",
        "x = layers.Dense(32, activation=\"relu\", name=\"dense_1\")(inputs)\n",
        "x = layers.Dense(32, activation=\"relu\", name=\"dense_2\")(x)\n",
        "outputs = layers.Dense(10, activation=None, name=\"predictions\")(x)\n",
        "model = keras.Model(inputs=inputs, outputs=outputs, name=\"mnist_model\")\n",
        "loss = keras.losses.SparseCategoricalCrossentropy(from_logits=True)\n",
        "#def loss(true, pred):\n",
        "#    val = 0.\n",
        "#    for i in range(len(true)):\n",
        "#        val -= np.log(pred[i, true[i]])\n",
        "#    return val / len(true)\n",
        "model.summary()"
      ]
    },
    {
      "cell_type": "code",
      "execution_count": 60,
      "id": "b18b6bdb",
      "metadata": {
        "colab": {
          "base_uri": "https://localhost:8080/"
        },
        "id": "b18b6bdb",
        "outputId": "4aa7e024-86f8-4d81-83b1-57396e2b28d1"
      },
      "outputs": [
        {
          "data": {
            "text/plain": [
              "array([6, 7, 6, 7, 7, 6, 6, 5, 6, 7, 5, 6, 9, 6, 6, 2, 5, 6, 6, 6, 8, 7,\n",
              "       6, 7, 2, 9, 6, 6, 0, 7, 6, 6, 6, 7, 5, 7, 6, 7, 2, 6, 6, 6, 2, 6,\n",
              "       2, 6, 6, 7, 2, 6, 6, 6, 6, 6, 6, 6, 6, 7, 8, 7, 6, 6, 6, 6, 6, 6,\n",
              "       6, 6, 6, 5, 6, 7, 6, 7, 6, 6, 9, 6, 7, 7, 9, 6, 9, 5, 6, 6, 6, 7,\n",
              "       0, 7, 5, 6, 5, 7, 6, 5, 2, 6, 6, 7])"
            ]
          },
          "execution_count": 60,
          "metadata": {},
          "output_type": "execute_result"
        }
      ],
      "source": [
        "# untrained model\n",
        "logits = model(x_train)\n",
        "np.argmax(logits, 1)[0:100]"
      ]
    },
    {
      "cell_type": "code",
      "execution_count": 61,
      "id": "35d74f67",
      "metadata": {
        "colab": {
          "base_uri": "https://localhost:8080/"
        },
        "id": "35d74f67",
        "outputId": "9811f828-e5c7-4530-dbba-f511680d29cc"
      },
      "outputs": [
        {
          "data": {
            "text/plain": [
              "array([5, 0, 4, 1, 9, 2, 1, 3, 1, 4, 3, 5, 3, 6, 1, 7, 2, 8, 6, 9, 4, 0,\n",
              "       9, 1, 1, 2, 4, 3, 2, 7, 3, 8, 6, 9, 0, 5, 6, 0, 7, 6, 1, 8, 7, 9,\n",
              "       3, 9, 8, 5, 9, 3, 3, 0, 7, 4, 9, 8, 0, 9, 4, 1, 4, 4, 6, 0, 4, 5,\n",
              "       6, 1, 0, 0, 1, 7, 1, 6, 3, 0, 2, 1, 1, 7, 9, 0, 2, 6, 7, 8, 3, 9,\n",
              "       0, 4, 6, 7, 4, 6, 8, 0, 7, 8, 3, 1], dtype=uint8)"
            ]
          },
          "execution_count": 61,
          "metadata": {},
          "output_type": "execute_result"
        }
      ],
      "source": [
        "# what we would like to get\n",
        "y_train[0:100]"
      ]
    },
    {
      "cell_type": "markdown",
      "id": "ir0Qc0cP2whW",
      "metadata": {
        "id": "ir0Qc0cP2whW"
      },
      "source": [
        "## Given "
      ]
    },
    {
      "cell_type": "code",
      "execution_count": 62,
      "id": "4c0073e2",
      "metadata": {
        "id": "4c0073e2"
      },
      "outputs": [],
      "source": [
        "## Computing a stochastic gradient\n",
        "\n",
        "# Source: https://keras.io/guides/writing_a_training_loop_from_scratch/\n",
        "\n",
        "# Example of gradient computation using automatic differentiation\n",
        "\n",
        "#x_train_batch = x_train[:8]\n",
        "#y_train_batch = y_train[:8]\n",
        "#with tf.GradientTape() as tape:\n",
        "#        # Run the forward pass of the layer.\n",
        "#        # The operations that the layer applies\n",
        "#        # to its inputs are going to be recorded\n",
        "#        # on the GradientTape.\n",
        "#        logits = model(x_train_batch)  # Logits for this minibatch\n",
        "#\n",
        "#        # Compute the loss value for this minibatch.\n",
        "#        loss_value = loss(y_train_batch, logits)\n",
        "#\n",
        "## Use the gradient tape to automatically retrieve\n",
        "## the gradients of the trainable variables with respect to the loss.\n",
        "#grad = tape.gradient(loss_value, model.trainable_weights)\n",
        "#\n",
        "### Updating weights\n",
        "#\n",
        "#def update_weights(model, update):\n",
        "#    new_weights = model.trainable_weights.copy()\n",
        "#    for i in range(len(new_weights)):\n",
        "#        new_weights[i] = new_weights[i] + update[i]\n",
        "#    model.set_weights(new_weights)\n",
        "#\n",
        "#\n",
        "### Evaluate model\n",
        "#samples_for_evaluation = np.random.randint(0, 10000, 1000)\n",
        "#logits = model(x_train[samples_for_evaluation])\n",
        "#loss(y_train[samples_for_evaluation], logits).numpy()\n",
        "#    "
      ]
    },
    {
      "cell_type": "markdown",
      "id": "8Abl7-okDPla",
      "metadata": {
        "id": "8Abl7-okDPla"
      },
      "source": [
        "## 4 Model"
      ]
    },
    {
      "cell_type": "markdown",
      "id": "q_9-jrBnCiH-",
      "metadata": {
        "id": "q_9-jrBnCiH-"
      },
      "source": [
        "**Q4.1**: The number of parameters can be obtained by multipling the number of neurons plus 1 (the bias term) of each layer. \n",
        "\n",
        "Since our model are: \n",
        "\n",
        "\n",
        "![image.png](data:image/png;base64,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)\n",
        "\n",
        "We're going to training $26,506$ optimization variables."
      ]
    },
    {
      "cell_type": "markdown",
      "id": "UGlo5UOB06sb",
      "metadata": {
        "id": "UGlo5UOB06sb"
      },
      "source": [
        "## 5 Stocasthic Gradient Descent"
      ]
    },
    {
      "cell_type": "markdown",
      "id": "591RQuWkEH5m",
      "metadata": {
        "id": "591RQuWkEH5m"
      },
      "source": [
        "### 5.1"
      ]
    },
    {
      "cell_type": "code",
      "execution_count": 63,
      "id": "9VhbSixch_li",
      "metadata": {
        "id": "9VhbSixch_li"
      },
      "outputs": [],
      "source": [
        "def create_model():\n",
        "\n",
        "    # source: https://keras.io/guides/training_with_built_in_methods/\n",
        "\n",
        "    inputs = keras.Input(shape=(784,), name=\"digits\")\n",
        "    x = layers.Dense(32, activation=\"relu\", name=\"dense_1\")(inputs)\n",
        "    x = layers.Dense(32, activation=\"relu\", name=\"dense_2\")(x)\n",
        "    outputs = layers.Dense(10, activation=None, name=\"predictions\")(x)\n",
        "    model = keras.Model(inputs=inputs, outputs=outputs, name=\"mnist_model\")\n",
        "    loss = keras.losses.SparseCategoricalCrossentropy(from_logits=True)\n",
        "\n",
        "    return (model, loss)\n",
        "\n",
        "    "
      ]
    },
    {
      "cell_type": "code",
      "execution_count": 64,
      "id": "km_o7fOqfGiW",
      "metadata": {
        "id": "km_o7fOqfGiW"
      },
      "outputs": [],
      "source": [
        "## Updating weights\n",
        "def update_weights(model, update):\n",
        "    new_weights = model.trainable_weights.copy()\n",
        "    for i in range(len(new_weights)):\n",
        "        new_weights[i] = new_weights[i] + update[i]\n",
        "    model.set_weights(new_weights)"
      ]
    },
    {
      "cell_type": "code",
      "execution_count": 65,
      "id": "bh1mOWiwrC6H",
      "metadata": {
        "id": "bh1mOWiwrC6H"
      },
      "outputs": [],
      "source": [
        "def SGD(X_train, y_train, model, batch_size, lbd0=1, step_loss = 0):\n",
        "    \n",
        "    #Starting lists of errors\n",
        "    losses_list = []\n",
        "    iteration_list = []\n",
        "\n",
        "    #Number of \n",
        "    N = X_train.shape[0]\n",
        "    #Number of iterations necessary for use all the data\n",
        "    number_of_iterations = int(np.ceil(N/batch_size)) \n",
        "\n",
        "    if not(step_loss):\n",
        "        step_loss =  number_of_iterations // 100\n",
        "\n",
        "    # Random index for batch  \n",
        "    idex = np.arange(N)\n",
        "    np.random.shuffle(idex)\n",
        "    splitted_idex = np.array_split(idex, number_of_iterations)\n",
        "    \n",
        "    \n",
        "\n",
        "    for k, idex  in enumerate(splitted_idex):\n",
        "        \n",
        "        # Creating batchs \n",
        "        x_train_batch = x_train[idex]\n",
        "        y_train_batch = y_train[idex]\n",
        "\n",
        "        # recalculating lbd\n",
        "        lbd = lbd0/np.sqrt(k+1)\n",
        "\n",
        "        # Forward pass\n",
        "        with tf.GradientTape() as tape:\n",
        "            # Run the forward pass of the layer.\n",
        "            # The operations that the layer applies\n",
        "            # to its inputs are going to be recorded\n",
        "            # on the GradientTape.\n",
        "\n",
        "            # Logits for this minibatch\n",
        "            logits = model(x_train_batch)   \n",
        "            # Compute the loss value for this minibatch.\n",
        "            loss_value = loss(y_train_batch, logits)\n",
        "\n",
        "        # The weights grandient with respect to the loss function \n",
        "        grad = tape.gradient(loss_value, model.trainable_weights)\n",
        "\n",
        "        # Gradient Descent update\n",
        "        update = [tf.math.scalar_mul(-lbd/batch_size, g) for g in grad]\n",
        "\n",
        "        # Updating weight values\n",
        "        update_weights(model, update)\n",
        "            \n",
        "        if not(k % step_loss):                \n",
        "            ## Evaluate model\n",
        "            loss_value = loss(y_train, model(x_train)).numpy()\n",
        "            ## Save step \n",
        "            iteration_list.append(k)\n",
        "            ## Save error values\n",
        "            losses_list.append(loss_value)\n",
        "            ## Print\n",
        "            print(f\"iteration: {k}/{number_of_iterations}\" \\\n",
        "                  f\" -> error_value={loss_value:.4f}\")\n",
        "    return (losses_list, iteration_list)\n"
      ]
    },
    {
      "cell_type": "markdown",
      "id": "H1-rQDnXEM_a",
      "metadata": {
        "id": "H1-rQDnXEM_a"
      },
      "source": [
        "### 5.2"
      ]
    },
    {
      "cell_type": "code",
      "execution_count": 66,
      "id": "c5a9ead7",
      "metadata": {
        "colab": {
          "base_uri": "https://localhost:8080/"
        },
        "id": "c5a9ead7",
        "outputId": "7d71970a-4fa5-44b8-ccea-7774f478cd4a",
        "scrolled": true
      },
      "outputs": [
        {
          "name": "stdout",
          "output_type": "stream",
          "text": [
            "iteration: 0/60000 -> error_value=2.6819\n",
            "iteration: 2000/60000 -> error_value=2.3028\n",
            "iteration: 4000/60000 -> error_value=2.2108\n",
            "iteration: 6000/60000 -> error_value=1.9778\n",
            "iteration: 8000/60000 -> error_value=1.9160\n",
            "iteration: 10000/60000 -> error_value=1.9145\n",
            "iteration: 12000/60000 -> error_value=1.8614\n",
            "iteration: 14000/60000 -> error_value=1.8198\n",
            "iteration: 16000/60000 -> error_value=1.7299\n",
            "iteration: 18000/60000 -> error_value=2.2594\n",
            "iteration: 20000/60000 -> error_value=1.4161\n",
            "iteration: 22000/60000 -> error_value=1.4978\n",
            "iteration: 24000/60000 -> error_value=1.2924\n",
            "iteration: 26000/60000 -> error_value=1.2678\n",
            "iteration: 28000/60000 -> error_value=1.2724\n",
            "iteration: 30000/60000 -> error_value=1.2445\n",
            "iteration: 32000/60000 -> error_value=1.1943\n",
            "iteration: 34000/60000 -> error_value=1.1558\n",
            "iteration: 36000/60000 -> error_value=1.2972\n",
            "iteration: 38000/60000 -> error_value=1.1353\n",
            "iteration: 40000/60000 -> error_value=1.1638\n",
            "iteration: 42000/60000 -> error_value=1.1411\n",
            "iteration: 44000/60000 -> error_value=1.0717\n",
            "iteration: 46000/60000 -> error_value=1.0996\n",
            "iteration: 48000/60000 -> error_value=1.0212\n",
            "iteration: 50000/60000 -> error_value=0.9707\n",
            "iteration: 52000/60000 -> error_value=0.9037\n",
            "iteration: 54000/60000 -> error_value=0.9254\n",
            "iteration: 56000/60000 -> error_value=0.8895\n",
            "iteration: 58000/60000 -> error_value=0.7925\n",
            "---------------------------------------------\n",
            "Total time to peform STD with batch_size = 1\n",
            "time = 10min 33s\n"
          ]
        }
      ],
      "source": [
        "#restart the model\n",
        "model, loss = create_model()\n",
        "\n",
        "start_time = time.time()\n",
        "\n",
        "# Stochastic Gradient Descent algorithm\n",
        "errors, steps = SGD(x_train, y_train, model, batch_size = 1, \n",
        "                    lbd0 = 0.5, step_loss = 2000)\n",
        "\n",
        "end_time = time.time()\n",
        "total_time = end_time - start_time\n",
        "\n",
        "print(\"---------------------------------------------\")\n",
        "print(f\"Total time to peform STD with batch_size = 1\")\n",
        "print(f\"time = {int(total_time)//60}min {int(total_time%60)}s\")"
      ]
    },
    {
      "cell_type": "code",
      "execution_count": 67,
      "id": "V-ONpqFuGW13",
      "metadata": {
        "colab": {
          "base_uri": "https://localhost:8080/",
          "height": 423
        },
        "id": "V-ONpqFuGW13",
        "outputId": "6a703cc9-e640-4bea-e111-624298f3e830"
      },
      "outputs": [
        {
          "data": {
            "image/png": "[encoded data removed]",
            "text/plain": [
              "<Figure size 720x432 with 1 Axes>"
            ]
          },
          "metadata": {
            "needs_background": "light"
          },
          "output_type": "display_data"
        },
        {
          "name": "stdout",
          "output_type": "stream",
          "text": [
            "Final error = 0.792\n"
          ]
        }
      ],
      "source": [
        "fig = plt.figure(figsize=(10, 6))\n",
        "\n",
        "plt.plot(steps, errors, \"-b\")\n",
        "\n",
        "plt.title(\"Crossentropy loss\", fontsize=15)\n",
        "plt.xlabel(\"Iterations\")\n",
        "plt.ylabel(\"Loss value\")\n",
        "plt.grid(True)\n",
        "plt.show()\n",
        "print(f\"Final error = {errors[-1]:.3f}\")"
      ]
    },
    {
      "cell_type": "markdown",
      "id": "KWP-8ovW83Li",
      "metadata": {
        "id": "KWP-8ovW83Li"
      },
      "source": [
        "## 6 Empirical risk minimization"
      ]
    },
    {
      "cell_type": "markdown",
      "id": "0cMiTxYYEfox",
      "metadata": {
        "id": "0cMiTxYYEfox"
      },
      "source": [
        "## 6.1 and 6.3"
      ]
    },
    {
      "cell_type": "code",
      "execution_count": 68,
      "id": "zx7sKg7447G7",
      "metadata": {
        "id": "zx7sKg7447G7"
      },
      "outputs": [],
      "source": [
        "def SDG_epoch(X_train, y_train, model, number_of_epochs, batch_size, lbd0=1, step_loss = 0):\n",
        "    loss_per_epoch = []\n",
        "    for epoch in range(number_of_epochs):\n",
        "        loss_per_iteration, _ =  SGD(X_train, y_train, model, batch_size, lbd0, step_loss)\n",
        "        loss_per_epoch.append(loss_per_iteration)\n",
        "    return loss_per_epoch\n"
      ]
    },
    {
      "cell_type": "code",
      "execution_count": 69,
      "id": "0ZmlcnfZMk5c",
      "metadata": {
        "colab": {
          "base_uri": "https://localhost:8080/"
        },
        "id": "0ZmlcnfZMk5c",
        "outputId": "5dc58486-26be-4a81-949d-9d492f8c0643"
      },
      "outputs": [
        {
          "name": "stdout",
          "output_type": "stream",
          "text": [
            "iteration: 0/1875 -> error_value=2.3339\n",
            "iteration: 1000/1875 -> error_value=2.0906\n",
            "iteration: 0/1875 -> error_value=1.9809\n",
            "iteration: 1000/1875 -> error_value=1.6218\n",
            "iteration: 0/1875 -> error_value=1.4687\n",
            "iteration: 1000/1875 -> error_value=1.1419\n",
            "iteration: 0/1875 -> error_value=1.0462\n",
            "iteration: 1000/1875 -> error_value=0.8607\n",
            "iteration: 0/1875 -> error_value=0.8085\n",
            "iteration: 1000/1875 -> error_value=0.7024\n",
            "iteration: 0/1875 -> error_value=0.6726\n",
            "iteration: 1000/1875 -> error_value=0.6075\n",
            "iteration: 0/1875 -> error_value=0.5938\n",
            "iteration: 1000/1875 -> error_value=0.5455\n",
            "iteration: 0/1875 -> error_value=0.5379\n",
            "iteration: 1000/1875 -> error_value=0.5024\n",
            "iteration: 0/1875 -> error_value=0.4947\n",
            "iteration: 1000/1875 -> error_value=0.4700\n",
            "iteration: 0/1875 -> error_value=0.4638\n",
            "iteration: 1000/1875 -> error_value=0.4456\n",
            "---------------------------------------------\n",
            "Total time to peform Minibatch-STD with batch_size = 32:\n",
            "time = 3min 34s\n"
          ]
        }
      ],
      "source": [
        "#restart the model\n",
        "model, loss = create_model()\n",
        "\n",
        "start_time = time.time()\n",
        "batch_size = 32\n",
        "# Mini-batch SGD algorithm\n",
        "errors = SDG_epoch(x_train, y_train, model, number_of_epochs = 10, batch_size = batch_size, lbd0 = 0.5, step_loss = 1000)\n",
        "\n",
        "end_time = time.time()\n",
        "total_time = end_time - start_time\n",
        "print(\"---------------------------------------------\")\n",
        "print(f\"Total time to peform Minibatch-STD with batch_size = {batch_size}:\")\n",
        "print(f\"time = {int(total_time)//60}min {int(total_time%60)}s\")"
      ]
    },
    {
      "cell_type": "code",
      "execution_count": 70,
      "id": "nmszvkl5MzDa",
      "metadata": {
        "colab": {
          "base_uri": "https://localhost:8080/",
          "height": 423
        },
        "id": "nmszvkl5MzDa",
        "outputId": "840ea7c5-3050-44a9-b3f5-63dcda91fca3"
      },
      "outputs": [
        {
          "data": {
            "image/png": "[encoded data removed]",
            "text/plain": [
              "<Figure size 720x432 with 1 Axes>"
            ]
          },
          "metadata": {
            "needs_background": "light"
          },
          "output_type": "display_data"
        },
        {
          "name": "stdout",
          "output_type": "stream",
          "text": [
            "Final error = 0.446\n"
          ]
        }
      ],
      "source": [
        "fig = plt.figure(figsize=(10, 6))\n",
        "\n",
        "step_xticks = len(errors[0])\n",
        "#put all the errors in one 1D array\n",
        "errors_array = np.array(errors).flatten()\n",
        "\n",
        "plt.plot(errors_array, \"-b\")\n",
        "plt.xticks(ticks=np.arange(0, errors_array.shape[0]+1, step_xticks), labels=np.arange(len(errors)+1))\n",
        "#plt.yscale(\"log\")\n",
        "plt.title(\"Crossentropy loss\", fontsize=15)\n",
        "plt.xlabel(\"Epochs\")\n",
        "plt.ylabel(\"Loss value\")\n",
        "plt.grid(True)\n",
        "plt.show()\n",
        "print(f\"Final error = {errors_array[-1]:.3f}\")"
      ]
    },
    {
      "cell_type": "markdown",
      "id": "PLsJjzxKBqL_",
      "metadata": {
        "id": "PLsJjzxKBqL_"
      },
      "source": [
        "**Q6.2**: With this scheme we're capable of training the model with less computational cost associated to it, even obtaining smaller error values.\n",
        "\n",
        "**Q6.3**: *SDG_epoch* function"
      ]
    },
    {
      "cell_type": "markdown",
      "id": "2W7ho-K0_ym9",
      "metadata": {
        "id": "2W7ho-K0_ym9"
      },
      "source": [
        "## Evaluation of the model"
      ]
    },
    {
      "cell_type": "code",
      "execution_count": 71,
      "id": "0sCNdhdb-16Q",
      "metadata": {
        "colab": {
          "base_uri": "https://localhost:8080/"
        },
        "id": "0sCNdhdb-16Q",
        "outputId": "43418904-1cd4-464a-9845-d494e9235774"
      },
      "outputs": [
        {
          "name": "stdout",
          "output_type": "stream",
          "text": [
            "Accuracy using the train set: 0.878\n"
          ]
        }
      ],
      "source": [
        "accuracy = keras.metrics.SparseCategoricalAccuracy()\n",
        "accuracy.update_state(y_train, model(x_train))\n",
        "print(f\"Accuracy using the train set: {accuracy.result().numpy():.3f}\")"
      ]
    },
    {
      "cell_type": "code",
      "execution_count": 72,
      "id": "jlmQZ9asADP5",
      "metadata": {
        "colab": {
          "base_uri": "https://localhost:8080/"
        },
        "id": "jlmQZ9asADP5",
        "outputId": "0c0bf10e-0c58-4a61-efd5-688b096123ad"
      },
      "outputs": [
        {
          "name": "stdout",
          "output_type": "stream",
          "text": [
            "Accuracy using the test set 0.879\n"
          ]
        }
      ],
      "source": [
        "accuracy.update_state(y_test, model(x_test))\n",
        "print(f\"Accuracy using the test set {accuracy.result().numpy():.3f}\")"
      ]
    },
    {
      "cell_type": "markdown",
      "id": "4XRWfzxqE8p9",
      "metadata": {
        "id": "4XRWfzxqE8p9"
      },
      "source": [
        "As expected, we obtained a training error smaller than the test error, since the latter is done with data not used for learning the neural network."
      ]
    }
  ],
  "metadata": {
    "colab": {
      "provenance": []
    },
    "kernelspec": {
      "display_name": "Python 3",
      "language": "python",
      "name": "python3"
    },
    "language_info": {
      "codemirror_mode": {
        "name": "ipython",
        "version": 3
      },
      "file_extension": ".py",
      "mimetype": "text/x-python",
      "name": "python",
      "nbconvert_exporter": "python",
      "pygments_lexer": "ipython3",
      "version": "3.9.7"
    }
  },
  "nbformat": 4,
  "nbformat_minor": 5
}
