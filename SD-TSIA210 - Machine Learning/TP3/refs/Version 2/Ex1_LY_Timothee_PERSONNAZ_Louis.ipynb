{
 "cells": [
  {
   "cell_type": "markdown",
   "metadata": {
    "colab_type": "text",
    "id": "iafPdtuncbq7"
   },
   "source": [
    "<h1><center>MNIST classification using Numpy<center></h1>\n",
    "\n",
    " **Louis PERSONNAZ**\n",
    "    \n",
    " **Timothée LY**"
   ]
  },
  {
   "cell_type": "markdown",
   "metadata": {
    "colab_type": "text",
    "id": "I4VrCB5La5rD"
   },
   "source": [
    "## Importing Numpy and Keras"
   ]
  },
  {
   "cell_type": "code",
   "execution_count": 48,
   "metadata": {
    "colab": {},
    "colab_type": "code",
    "id": "OlKZ3Hnas7B4"
   },
   "outputs": [
    {
     "name": "stdout",
     "output_type": "stream",
     "text": [
      "Using tensorflow version 2.8.0\n",
      "Using keras version 2.8.0\n"
     ]
    }
   ],
   "source": [
    "import numpy as np\n",
    "import tensorflow as tf\n",
    "import keras\n",
    "from keras.datasets import mnist\n",
    "from keras.utils.np_utils import to_categorical\n",
    "from sklearn.preprocessing import StandardScaler\n",
    "from matplotlib import pyplot as plt\n",
    "\n",
    "print(f\"Using tensorflow version {tf.__version__}\")\n",
    "print(f\"Using keras version {keras.__version__}\")"
   ]
  },
  {
   "cell_type": "markdown",
   "metadata": {
    "colab_type": "text",
    "id": "s_QLz9_jbRZq"
   },
   "source": [
    "## Loading and preparing the MNIST dataset\n",
    "Load the MNIST dataset made available by keras.datasets. Check the size of the training and testing sets. "
   ]
  },
  {
   "cell_type": "code",
   "execution_count": 49,
   "metadata": {
    "cellView": "both",
    "colab": {},
    "colab_type": "code",
    "id": "gG83hGyVmijn"
   },
   "outputs": [
    {
     "name": "stdout",
     "output_type": "stream",
     "text": [
      "Training set size : (60000, 28, 28) \n",
      "Test set size : (10000, 28, 28)\n"
     ]
    }
   ],
   "source": [
    "# The MNSIT dataset is ready to be imported from Keras into RAM\n",
    "# Warning: you cannot do that for larger databases (e.g. ImageNet)\n",
    "(X_train, y_train), (X_test, y_test) = mnist.load_data()\n",
    "\n",
    "print(f\"Training set size :\", X_train.shape, \"\\nTest set size :\", X_test.shape)"
   ]
  },
  {
   "cell_type": "markdown",
   "metadata": {
    "colab_type": "text",
    "id": "gRPbU_Z4U6Ac"
   },
   "source": [
    "The MNIST database contains 60,000 training images and 10,000 testing images.\n",
    "Using the pyplot package, visualize the first sample of the training set."
   ]
  },
  {
   "cell_type": "code",
   "execution_count": 50,
   "metadata": {
    "colab": {},
    "colab_type": "code",
    "id": "x5VAu7oW0Zu4"
   },
   "outputs": [
    {
     "data": {
      "image/png": "[encoded data removed]",
      "text/plain": [
       "<Figure size 432x432 with 1 Axes>"
      ]
     },
     "metadata": {
      "needs_background": "light"
     },
     "output_type": "display_data"
    }
   ],
   "source": [
    "# Let us visualize the first training sample using the Matplotlib library\n",
    "plt.figure(figsize = (6, 6))\n",
    "plt.imshow(X_train[0], cmap='gray')\n",
    "plt.title(\"first training sample\")\n",
    "plt.show()"
   ]
  },
  {
   "cell_type": "markdown",
   "metadata": {
    "colab_type": "text",
    "id": "s7YsRekMVDg-"
   },
   "source": [
    "The database contains images of handwritten digits. Hence, they belong to one of 10 categories, depending on the digit they represent. \n",
    "Reminder: in order to do multi-class classification, we use the softmax function, which outputs a multinomial probability distribution. That means that the output of our model will be a vector of size $10$, containing probabilities (meaning that the elements of the vector will be positive sum to $1$).\n",
    "For easy computation, we want the true labels to be represented with the same format: that is what we call **one-hot encoding**. For example, if an image $\\mathbf{x}$ represents the digit $5$, we have the corresponding one-hot label (careful, $0$ will be the first digit): \n",
    "$$\\mathbf{y} = [0, 0, 0, 0, 0, 1, 0, 0, 0, 0]$$\n",
    "Here, you need to turn train and test labels to one-hot encoding using the following function: "
   ]
  },
  {
   "cell_type": "code",
   "execution_count": 51,
   "metadata": {
    "colab": {},
    "colab_type": "code",
    "id": "lQbkllF8mnaf"
   },
   "outputs": [],
   "source": [
    "y_train_one_hot = to_categorical(y_train, num_classes=10)\n",
    "y_test_one_hot  = to_categorical(y_test, num_classes=10)"
   ]
  },
  {
   "cell_type": "markdown",
   "metadata": {
    "colab_type": "text",
    "id": "0jv29YLtVO3q"
   },
   "source": [
    "Images are black and white, with size $(28, 28)$. We will work with them using a simple linear classification model, meaning that we will have them as vectors of size $(784)$.\n",
    "You should then transform the images to the size $(784)$ using the numpy function ```reshape```.\n",
    "\n",
    "Then, after casting the pixels to floats, normalize the images so that they have zero-mean and unitary deviation. Be careful to your methodology: while you have access to training data, you may not have access to testing data, and must avoid using any statistic on the testing dataset."
   ]
  },
  {
   "cell_type": "code",
   "execution_count": 52,
   "metadata": {
    "colab": {},
    "colab_type": "code",
    "id": "ptTRSDo5nJyZ"
   },
   "outputs": [
    {
     "name": "stdout",
     "output_type": "stream",
     "text": [
      "Shape of train images array: (60000, 784)\n",
      "Shape of test images array: (60000, 784)\n"
     ]
    }
   ],
   "source": [
    "train_images = X_train\n",
    "test_images = X_test\n",
    "\n",
    "# Reshape to proper images with 1 color channel according to backend scheme\n",
    "img_rows, img_cols = train_images.shape[1], train_images.shape[2]\n",
    "train_images = train_images.reshape(-1, img_rows*img_cols)\n",
    "test_images = test_images.reshape(-1, img_rows*img_cols)\n",
    "print(f\"Shape of train images array: {train_images.shape}\")\n",
    "print(f\"Shape of test images array: {train_images.shape}\")\n",
    "\n",
    "# Cast pixels from uint8 to float32\n",
    "train_images = train_images.astype(np.float32)\n",
    "\n",
    "# Now let us normalize the images so that they have zero mean and standard deviation\n",
    "# Hint: are real testing data statistics known at training time?\n",
    "scaler = StandardScaler(copy=False)\n",
    "train_images = scaler.fit_transform(train_images)\n",
    "test_images = scaler.transform(test_images)"
   ]
  },
  {
   "cell_type": "markdown",
   "metadata": {},
   "source": [
    "# Working with Numpy\n",
    "\n",
    "Look at this [cheatsheet](https://s3.amazonaws.com/assets.datacamp.com/blog_assets/Numpy_Python_Cheat_Sheet.pdf) for some basic information on how to use numpy.\n",
    "\n",
    "## Defining the model \n",
    "\n",
    "We will here create a simple, linear classification model. We will take each pixel in the image as an input feature (making the size of the input to be $784$) and transform these features with a weight matrix $\\mathbf{W}$ and a bias vector $\\mathbf{b}$. Since there are $10$ possible classes, we want to obtain $10$ scores. Then, \n",
    "$$ \\mathbf{W} \\in \\mathbb{R}^{784 \\times 10} $$\n",
    "$$ \\mathbf{b} \\in \\mathbb{R}^{10} $$\n",
    "\n",
    "and our scores are obtained with:\n",
    "$$ \\mathbf{z} = \\mathbf{W}^{T} \\mathbf{x} +  \\mathbf{b} $$\n",
    "\n",
    "where $\\mathbf{x} \\in \\mathbb{R}^{784}$ is the input vector representing an image.\n",
    "We note $\\mathbf{y} \\in \\mathbb{R}^{10}$ as the target `one_hot` vector. \n",
    "\n",
    "Here, you first need to initialize $\\mathbf{W}$ and $\\mathbf{b}$ using ```np.random.normal``` and ```np.zeros```, then compute $\\mathbf{z}$."
   ]
  },
  {
   "cell_type": "code",
   "execution_count": 53,
   "metadata": {},
   "outputs": [],
   "source": [
    "# To avoid implementing a complicated gradient back-propagation,\n",
    "# we will try a very simple architecture with one layer \n",
    "def initLayer(n_input, n_output):\n",
    "    \"\"\"\n",
    "    Initialize the weights, return the number of parameters\n",
    "    Inputs:  n_input: the number of input units   - int\n",
    "             n_output: the number of output units - int\n",
    "    Outputs: W: a matrix of weights for the layer - numpy ndarray\n",
    "             b: a vector bias for the layer       - numpy ndarray\n",
    "             nb_params: the number of parameters  - int\n",
    "    \"\"\"\n",
    "    W = np.random.normal(size=(img_rows*img_cols, n_output))\n",
    "    b = np.zeros(n_output)\n",
    "    nb_params = img_rows*img_cols*n_output + n_output\n",
    "    return W, b, nb_params"
   ]
  },
  {
   "cell_type": "code",
   "execution_count": 54,
   "metadata": {},
   "outputs": [],
   "source": [
    "def forward(W, b, X):\n",
    "    \"\"\"\n",
    "    Perform the forward propagation\n",
    "    Inputs:  W: the weights - numpy ndarray\n",
    "             b: the bias    - numpy ndarray\n",
    "             X: the batch   - numpy ndarray\n",
    "    Outputs: z: outputs     - numpy ndarray\n",
    "    \"\"\"\n",
    "    z = X @ W + b \n",
    "    return z"
   ]
  },
  {
   "cell_type": "markdown",
   "metadata": {},
   "source": [
    "## Computing the output \n",
    "\n",
    "To obtain classification probabilities, we use the softmax function:\n",
    "$$ \\mathbf{o} = softmax(\\mathbf{z}) \\text{         with          } o_i = \\frac{\\exp(z_i)}{\\sum_{j=0}^{9} \\exp(z_j)} $$\n",
    "\n",
    "The usual difficulty with the softmax function is the possibility of overflow when the scores $z_i$ are already large. Since a softmax is not affected by a shift affecting the whole vector $\\mathbf{z}$:\n",
    "$$ \\frac{\\exp(z_i - c)}{\\sum_{j=0}^{9} \\exp(z_j - c)} =  \\frac{\\exp(-c) \\exp(z_i)}{\\exp(-c) \\sum_{j=0}^{9} \\exp(z_j)} = \\frac{\\exp(z_i)}{\\sum_{j=0}^{9} \\exp(z_j)}$$\n",
    "what trick can we use to ensure we will not encounter any overflow? "
   ]
  },
  {
   "cell_type": "code",
   "execution_count": 55,
   "metadata": {},
   "outputs": [],
   "source": [
    "def softmax(z):\n",
    "    \"\"\"\n",
    "    Perform the softmax transformation to the pre-activation values\n",
    "    Inputs:  z: the pre-activation values - numpy ndarray\n",
    "    Outputs: out: the activation values   - numpy ndarray\n",
    "    \"\"\"\n",
    "    damping = np.max(z)\n",
    "    z = z - damping\n",
    "    out = np.exp(z) / np.sum(np.exp(z))\n",
    "    return out"
   ]
  },
  {
   "cell_type": "markdown",
   "metadata": {},
   "source": [
    "We use a damping factor corresponding to the maximum value of the scores, in that way, the exponential factor cannot overflow."
   ]
  },
  {
   "cell_type": "markdown",
   "metadata": {},
   "source": [
    "## Making updates\n",
    "\n",
    "We define a learning rate $\\eta$. The goal is to be able to apply updates:\n",
    "$$ \\mathbf{W}^{t+1} = \\mathbf{W}^{t} - \\eta \\nabla_{\\mathbf{W}} l_{MLE} $$\n",
    "\n",
    "In order to do this, we will compute this gradient (and the bias) in the function ```update```. In the next function ```updateParams```, we will actually apply the update with regularization. \n",
    "\n",
    "Reminder: the gradient $\\nabla_{\\mathbf{W}} l_{MLE}$ is the matrix containing the partial derivatives \n",
    "$$ \\left[\\frac{\\partial l_{MLE}}{\\partial W_{ij}}\\right]_{i=1..784,\\,j=1..10} $$\n",
    "**Remark**: Careful, the usual way of implementing this in Python has the dimensions of $\\mathbf{W}$ reversed compared to the notation of the slides.\n",
    "\n",
    "Coordinate by coordinate, we obtain the following update: \n",
    "$$ W_{ij}^{t+1} = W_{ij}^{t} - \\eta \\frac{\\partial l_{MLE}}{\\partial W_{ij}} $$\n",
    "\n",
    "Via the chain rule, we obtain, for an input feature $i \\in [0, 783]$ and a output class $j \\in [0, 9]$: $$\\frac{\\partial l_{MLE}}{\\partial W_{ij}} = \\frac{\\partial l_{MLE}}{\\partial z_{j}} \\frac{\\partial z_j}{\\partial W_{ij}}$$ \n",
    "\n",
    "It's easy to compute that $\\frac{\\partial z_j}{\\partial W_{ij}} = x_i$\n",
    "\n",
    "We compute the softmax derivative, to obtain:\n",
    "$$ \\nabla_{\\mathbf{z}} l_{MLE} = \\mathbf{o} - \\mathbf{y} $$\n",
    "\n",
    "Hence, $\\frac{\\partial l_{MLE}}{\\partial z_{j}} = o_j - y_j$ and we obtain that $$\\frac{\\partial l_{MLE}}{\\partial W_{ij}} = (o_j - y_j) x_i$$\n",
    "\n",
    "This can easily be written as a scalar product, and a similar computation (even easier, actually) can be done for $\\mathbf{b}$. Noting $\\nabla_{\\mathbf{z}} l_{MLE} = \\mathbf{o} - \\mathbf{y}$ as ```grad``` in the following function, compute the gradients $\\nabla_{\\mathbf{W}} l_{MLE}$ (`grad_w`) and $\\nabla_{\\mathbf{b}} l_{MLE}$ (`grad_b`) in order to call the function ```updateParams```.\n",
    "\n",
    "Note: the regularizer and the `weight_decay` $\\lambda$ are used in ```updateParams```."
   ]
  },
  {
   "cell_type": "code",
   "execution_count": 56,
   "metadata": {},
   "outputs": [],
   "source": [
    "def update(eta, W, b, grad, X, regularizer, weight_decay):\n",
    "    \"\"\"\n",
    "    Perform the update of the parameters\n",
    "    Inputs:  eta: the step-size of the gradient descent - float \n",
    "             W: the weights - ndarray\n",
    "             b: the bias -  ndarray\n",
    "             grad: the gradient of the activations w.r.t. the loss -  list of ndarray\n",
    "             X: the data -  ndarray\n",
    "             regularizer: 'L2' or None - the regularizer to be used in updateParams\n",
    "             weight_decay: the weight decay to be used in updateParams - float\n",
    "    Outputs: W: the weights updated -  ndarray\n",
    "             b: the bias updated -  ndarray\n",
    "    \"\"\"\n",
    "    X = X.reshape(img_rows*img_cols, 1)\n",
    "    grad = grad.reshape(1, -1)\n",
    "    \n",
    "    grad_w = X @ grad\n",
    "    grad_b = grad\n",
    "        \n",
    "    W = updateParams(W, grad_w, eta, regularizer, weight_decay)\n",
    "    b = updateParams(b, grad_b, eta, regularizer, weight_decay)\n",
    "    \n",
    "    return W, b"
   ]
  },
  {
   "cell_type": "markdown",
   "metadata": {},
   "source": [
    "The update rule is affected by the regularization. We implement two cases: no regularization, or L2 regularization. Use the two possible update rules to implement the following function:"
   ]
  },
  {
   "cell_type": "markdown",
   "metadata": {},
   "source": [
    "We consider the regularized loss $l_{reg}(\\mathbf{W}) = l_{MLE}(\\mathbf{W}) + \\frac{\\lambda}{2} \\mathbf{W}^\\top \\mathbf{W}$ for which the update rule becomes $\\mathbf{W}^{t+1} \\leftarrow \\mathbf{W}^t - \\eta ( \\nabla_{\\mathbf{W}} l_{MLE} + \\lambda \\mathbf{W}^t )$"
   ]
  },
  {
   "cell_type": "code",
   "execution_count": 57,
   "metadata": {},
   "outputs": [],
   "source": [
    "def updateParams(param, grad_param, eta, regularizer=None, weight_decay=0):\n",
    "    \"\"\"\n",
    "    Perform the update of the parameters\n",
    "    Inputs:  param: the network parameters - ndarray\n",
    "             grad_param: the updates of the parameters - ndarray\n",
    "             eta: the step-size of the gradient descent - float\n",
    "             weight_decay: the weight-decay - float\n",
    "    Outputs: the parameters updated - ndarray\n",
    "    \"\"\"\n",
    "    if regularizer is None:\n",
    "        return param - eta * grad_param \n",
    "    elif regularizer == 'L2':\n",
    "        return  (1 - eta*weight_decay)*param - eta * grad_param \n",
    "    else:\n",
    "        raise NotImplementedError"
   ]
  },
  {
   "cell_type": "markdown",
   "metadata": {},
   "source": [
    "## Computing the Accuracy\n",
    "\n",
    "Here, we simply use the model to predict the class (by taking the argmax of the output !) for every example in ```X```, and count the number of times the model is right, to output the accuracy."
   ]
  },
  {
   "cell_type": "code",
   "execution_count": 58,
   "metadata": {},
   "outputs": [],
   "source": [
    "def computeAcc(W, b, X, labels):\n",
    "    \"\"\"\n",
    "    Compute the loss value of the current network on the full batch\n",
    "    Inputs:  act_func: the activation function - function\n",
    "             W: the weights - list of ndarray\n",
    "             B: the bias - list of ndarray\n",
    "             X: the batch - ndarray\n",
    "             labels: the labels corresponding to the batch\n",
    "    Outputs: loss: the negative log-likelihood - float\n",
    "             accuracy: the ratio of examples that are well-classified - float\n",
    "    \"\"\" \n",
    "    ### Forward propagation\n",
    "    z = forward(W, b, X)\n",
    " \n",
    "    ### Compute the softmax and the prediction\n",
    "    out = softmax(z)\n",
    "    pred = np.argmax(z, axis=1)\n",
    "    real = np.argmax(labels, axis=1)\n",
    "    \n",
    "    ### Compute the accuracy\n",
    "    accuracy = np.mean(pred==real)\n",
    "    return accuracy"
   ]
  },
  {
   "cell_type": "markdown",
   "metadata": {},
   "source": [
    "## Preparing training\n",
    "\n",
    "The following hyperparameters are given. Next, we can assemble all the functions previously defined to implement a training loop. We will train the classifier on **one epoch**, meaning that the model will consider each training example once."
   ]
  },
  {
   "cell_type": "code",
   "execution_count": 59,
   "metadata": {},
   "outputs": [],
   "source": [
    "# Optimization\n",
    "eta = 0.01\n",
    "regularizer = 'L2'\n",
    "weight_decay = 0.0001\n",
    "\n",
    "# Training\n",
    "log_interval = 5000"
   ]
  },
  {
   "cell_type": "code",
   "execution_count": 60,
   "metadata": {},
   "outputs": [],
   "source": [
    "n_training = train_images.shape[0] \n",
    "n_features = img_rows*img_cols\n",
    "n_labels = 10\n",
    "W, b, nb_params = initLayer(n_features, n_labels)"
   ]
  },
  {
   "cell_type": "code",
   "execution_count": 61,
   "metadata": {},
   "outputs": [
    {
     "name": "stdout",
     "output_type": "stream",
     "text": [
      "step=0      : train_acc=0.0837, test_acc=0.0724, eta=0.01\n",
      "step=5000   : train_acc=0.7997, test_acc=0.8030, eta=0.01\n",
      "step=10000  : train_acc=0.8369, test_acc=0.8404, eta=0.01\n",
      "step=15000  : train_acc=0.8502, test_acc=0.8525, eta=0.01\n",
      "step=20000  : train_acc=0.8671, test_acc=0.8679, eta=0.01\n",
      "step=25000  : train_acc=0.8675, test_acc=0.8691, eta=0.01\n",
      "step=30000  : train_acc=0.8757, test_acc=0.8733, eta=0.01\n",
      "step=35000  : train_acc=0.8807, test_acc=0.8799, eta=0.01\n",
      "step=40000  : train_acc=0.8833, test_acc=0.8796, eta=0.01\n",
      "step=45000  : train_acc=0.8874, test_acc=0.8840, eta=0.01\n",
      "step=50000  : train_acc=0.8784, test_acc=0.8762, eta=0.01\n",
      "step=55000  : train_acc=0.8875, test_acc=0.8843, eta=0.01\n",
      "Final result: train_acc=0.8875, test_acc=0.8843, eta=0.01\n"
     ]
    }
   ],
   "source": [
    "# Data structures for plotting\n",
    "g_train_acc = []\n",
    "g_valid_acc = []\n",
    "\n",
    "######################\n",
    "## Learning process ##\n",
    "######################\n",
    "for j in range(n_training):\n",
    "    ### Getting the example\n",
    "    X, y = train_images[j], y_train_one_hot[j]\n",
    "\n",
    "    ### Forward propagation\n",
    "    z = forward(W, b, X)\n",
    "\n",
    "    ### Compute the softmax\n",
    "    out = softmax(z)\n",
    "        \n",
    "    ### Compute the gradient at the top layer\n",
    "    derror = out - y # this is o - y \n",
    "\n",
    "    ### Update the parameters\n",
    "    W, b = update(eta, W, b, derror, X, regularizer, weight_decay)\n",
    "\n",
    "    if j % log_interval == 0:\n",
    "        ### Every log_interval examples, look at the training accuracy\n",
    "        train_accuracy = computeAcc(W, b, train_images, y_train_one_hot) \n",
    "\n",
    "        ### And the testing accuracy\n",
    "        test_accuracy = computeAcc(W, b, test_images, y_test_one_hot) \n",
    "\n",
    "        g_train_acc.append(train_accuracy)\n",
    "        g_valid_acc.append(test_accuracy)\n",
    "        print(f\"step={j:<7}: train_acc={train_accuracy:.4f}, test_acc={test_accuracy:.4f}, eta={eta}\")\n",
    "\n",
    "g_train_acc.append(train_accuracy)\n",
    "g_valid_acc.append(test_accuracy)\n",
    "print(f\"Final result: train_acc={train_accuracy:.4f}, test_acc={test_accuracy:.4f}, eta={eta}\") "
   ]
  },
  {
   "cell_type": "code",
   "execution_count": 62,
   "metadata": {},
   "outputs": [
    {
     "data": {
      "image/png": "[encoded data removed]",
      "text/plain": [
       "<Figure size 720x432 with 1 Axes>"
      ]
     },
     "metadata": {
      "needs_background": "light"
     },
     "output_type": "display_data"
    }
   ],
   "source": [
    "fig = plt.figure(figsize=(10, 6))\n",
    "plt.plot(np.arange(0, n_training+1, log_interval), g_train_acc, c='firebrick', marker='o', label=\"training\")\n",
    "plt.plot(np.arange(0, n_training+1, log_interval), g_valid_acc, c='olivedrab', marker='o', label=\"validation\")\n",
    "plt.xlabel(\"Number of samples processed\")\n",
    "plt.ylabel(\"Accuracy\")\n",
    "plt.grid()\n",
    "plt.legend(loc=\"best\")\n",
    "plt.show()"
   ]
  },
  {
   "cell_type": "markdown",
   "metadata": {},
   "source": [
    "# Working with TensorFlow"
   ]
  },
  {
   "cell_type": "markdown",
   "metadata": {},
   "source": [
    "Let's try to do the same using TensorFlow and the keras API!"
   ]
  },
  {
   "cell_type": "code",
   "execution_count": 63,
   "metadata": {},
   "outputs": [],
   "source": [
    "from tensorflow.keras.utils import plot_model\n",
    "from tensorflow.keras.layers import Input, Dense\n",
    "from tensorflow.keras.optimizers import SGD\n",
    "from tensorflow.keras.regularizers import L2"
   ]
  },
  {
   "cell_type": "code",
   "execution_count": 64,
   "metadata": {},
   "outputs": [
    {
     "name": "stdout",
     "output_type": "stream",
     "text": [
      "Model: \"simple_model\"\n",
      "_________________________________________________________________\n",
      " Layer (type)                Output Shape              Param #   \n",
      "=================================================================\n",
      " output (Dense)              (None, 10)                7850      \n",
      "                                                                 \n",
      "=================================================================\n",
      "Total params: 7,850\n",
      "Trainable params: 7,850\n",
      "Non-trainable params: 0\n",
      "_________________________________________________________________\n"
     ]
    }
   ],
   "source": [
    "input_layer = Input(shape=(n_features,), name=\"input\")\n",
    "output_layer = Dense(n_labels,\n",
    "                     use_bias=True,\n",
    "                     activation=\"softmax\",\n",
    "                     kernel_regularizer=L2(l2=weight_decay),\n",
    "                     bias_regularizer=None,\n",
    "                     name=\"output\")\n",
    "\n",
    "simple_model = keras.Sequential([input_layer, output_layer], name='simple_model')\n",
    "\n",
    "simple_model.summary()"
   ]
  },
  {
   "cell_type": "code",
   "execution_count": 65,
   "metadata": {},
   "outputs": [
    {
     "name": "stdout",
     "output_type": "stream",
     "text": [
      "Theoretical number of trainable params: 7850\n"
     ]
    }
   ],
   "source": [
    "print(f\"Theoretical number of trainable params: {nb_params}\")"
   ]
  },
  {
   "cell_type": "code",
   "execution_count": 66,
   "metadata": {},
   "outputs": [
    {
     "data": {
      "image/png": "[encoded data removed]",
      "text/plain": [
       "<IPython.core.display.Image object>"
      ]
     },
     "execution_count": 66,
     "metadata": {},
     "output_type": "execute_result"
    }
   ],
   "source": [
    "plot_model(simple_model, rankdir='LR', show_shapes=True, show_dtype=True, show_layer_activations=True)"
   ]
  },
  {
   "cell_type": "code",
   "execution_count": 67,
   "metadata": {},
   "outputs": [],
   "source": [
    "simple_model.compile(optimizer=SGD(learning_rate=eta),\n",
    "                     loss='mse',\n",
    "                     metrics=[\"categorical_accuracy\"])"
   ]
  },
  {
   "cell_type": "code",
   "execution_count": 68,
   "metadata": {},
   "outputs": [
    {
     "name": "stdout",
     "output_type": "stream",
     "text": [
      "60000/60000 [==============================] - 59s 982us/step - loss: 0.0216 - categorical_accuracy: 0.8725 - val_loss: 0.0161 - val_categorical_accuracy: 0.9097\n"
     ]
    }
   ],
   "source": [
    "batch_size = 1\n",
    "epochs = 1\n",
    "history = simple_model.fit(train_images,\n",
    "                           y_train_one_hot,\n",
    "                           epochs=epochs,\n",
    "                           batch_size=batch_size,\n",
    "                           shuffle=False,\n",
    "                           validation_data=(test_images, y_test_one_hot))"
   ]
  },
  {
   "cell_type": "markdown",
   "metadata": {},
   "source": [
    "We get a similar behaviour though the final test accuracies differ a bit (this may come from the random initialized parameters)."
   ]
  }
 ],
 "metadata": {
  "accelerator": "GPU",
  "colab": {
   "collapsed_sections": [],
   "name": "TP4_1_empty.ipynb",
   "provenance": []
  },
  "kernelspec": {
   "display_name": "Python 3 (ipykernel)",
   "language": "python",
   "name": "python3"
  },
  "language_info": {
   "codemirror_mode": {
    "name": "ipython",
    "version": 3
   },
   "file_extension": ".py",
   "mimetype": "text/x-python",
   "name": "python",
   "nbconvert_exporter": "python",
   "pygments_lexer": "ipython3",
   "version": "3.8.13"
  }
 },
 "nbformat": 4,
 "nbformat_minor": 4
}
